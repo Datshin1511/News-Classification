{
  "nbformat": 4,
  "nbformat_minor": 0,
  "metadata": {
    "colab": {
      "name": "News Classification - AI.ipynb",
      "provenance": []
    },
    "kernelspec": {
      "name": "python3",
      "display_name": "Python 3"
    },
    "language_info": {
      "name": "python"
    }
  },
  "cells": [
    {
      "cell_type": "markdown",
      "source": [
        "Necessary libraries are imported & few extras are downloaded"
      ],
      "metadata": {
        "id": "kRX3aMJkxPM5"
      }
    },
    {
      "cell_type": "code",
      "execution_count": null,
      "metadata": {
        "id": "TGOPA1XUxJEY"
      },
      "outputs": [],
      "source": [
        "import pandas as pd\n",
        "import nltk\n",
        "nltk.download('punkt')"
      ]
    },
    {
      "cell_type": "markdown",
      "source": [
        "Importing the required CSV data"
      ],
      "metadata": {
        "id": "oAOnosrR5kQh"
      }
    },
    {
      "cell_type": "code",
      "source": [
        "real_data = pd.read_csv(r\"true_data.csv\")\n",
        "fake_data = pd.read_csv(r\"fake_data.csv\")\n",
        "\n",
        "display(real_data.head(5))\n",
        "display(fake_data.head(5))"
      ],
      "metadata": {
        "colab": {
          "base_uri": "https://localhost:8080/",
          "height": 647
        },
        "id": "MWM_fowu5voI",
        "outputId": "e70687ef-1e29-4b94-da7e-eb8dbb11c9a2"
      },
      "execution_count": 47,
      "outputs": [
        {
          "output_type": "display_data",
          "data": {
            "text/plain": [
              "                                               title  \\\n",
              "0  As U.S. budget fight looms, Republicans flip t...   \n",
              "1  U.S. military to accept transgender recruits o...   \n",
              "2  Senior U.S. Republican senator: 'Let Mr. Muell...   \n",
              "3  FBI Russia probe helped by Australian diplomat...   \n",
              "4  Trump wants Postal Service to charge 'much mor...   \n",
              "\n",
              "                                                text       subject  \\\n",
              "0  WASHINGTON (Reuters) - The head of a conservat...  politicsNews   \n",
              "1  WASHINGTON (Reuters) - Transgender people will...  politicsNews   \n",
              "2  WASHINGTON (Reuters) - The special counsel inv...  politicsNews   \n",
              "3  WASHINGTON (Reuters) - Trump campaign adviser ...  politicsNews   \n",
              "4  SEATTLE/WASHINGTON (Reuters) - President Donal...  politicsNews   \n",
              "\n",
              "                 date  \n",
              "0  December 31, 2017   \n",
              "1  December 29, 2017   \n",
              "2  December 31, 2017   \n",
              "3  December 30, 2017   \n",
              "4  December 29, 2017   "
            ],
            "text/html": [
              "\n",
              "  <div id=\"df-da478950-517c-4ed3-9d6a-f6899f3969bd\">\n",
              "    <div class=\"colab-df-container\">\n",
              "      <div>\n",
              "<style scoped>\n",
              "    .dataframe tbody tr th:only-of-type {\n",
              "        vertical-align: middle;\n",
              "    }\n",
              "\n",
              "    .dataframe tbody tr th {\n",
              "        vertical-align: top;\n",
              "    }\n",
              "\n",
              "    .dataframe thead th {\n",
              "        text-align: right;\n",
              "    }\n",
              "</style>\n",
              "<table border=\"1\" class=\"dataframe\">\n",
              "  <thead>\n",
              "    <tr style=\"text-align: right;\">\n",
              "      <th></th>\n",
              "      <th>title</th>\n",
              "      <th>text</th>\n",
              "      <th>subject</th>\n",
              "      <th>date</th>\n",
              "    </tr>\n",
              "  </thead>\n",
              "  <tbody>\n",
              "    <tr>\n",
              "      <th>0</th>\n",
              "      <td>As U.S. budget fight looms, Republicans flip t...</td>\n",
              "      <td>WASHINGTON (Reuters) - The head of a conservat...</td>\n",
              "      <td>politicsNews</td>\n",
              "      <td>December 31, 2017</td>\n",
              "    </tr>\n",
              "    <tr>\n",
              "      <th>1</th>\n",
              "      <td>U.S. military to accept transgender recruits o...</td>\n",
              "      <td>WASHINGTON (Reuters) - Transgender people will...</td>\n",
              "      <td>politicsNews</td>\n",
              "      <td>December 29, 2017</td>\n",
              "    </tr>\n",
              "    <tr>\n",
              "      <th>2</th>\n",
              "      <td>Senior U.S. Republican senator: 'Let Mr. Muell...</td>\n",
              "      <td>WASHINGTON (Reuters) - The special counsel inv...</td>\n",
              "      <td>politicsNews</td>\n",
              "      <td>December 31, 2017</td>\n",
              "    </tr>\n",
              "    <tr>\n",
              "      <th>3</th>\n",
              "      <td>FBI Russia probe helped by Australian diplomat...</td>\n",
              "      <td>WASHINGTON (Reuters) - Trump campaign adviser ...</td>\n",
              "      <td>politicsNews</td>\n",
              "      <td>December 30, 2017</td>\n",
              "    </tr>\n",
              "    <tr>\n",
              "      <th>4</th>\n",
              "      <td>Trump wants Postal Service to charge 'much mor...</td>\n",
              "      <td>SEATTLE/WASHINGTON (Reuters) - President Donal...</td>\n",
              "      <td>politicsNews</td>\n",
              "      <td>December 29, 2017</td>\n",
              "    </tr>\n",
              "  </tbody>\n",
              "</table>\n",
              "</div>\n",
              "      <button class=\"colab-df-convert\" onclick=\"convertToInteractive('df-da478950-517c-4ed3-9d6a-f6899f3969bd')\"\n",
              "              title=\"Convert this dataframe to an interactive table.\"\n",
              "              style=\"display:none;\">\n",
              "        \n",
              "  <svg xmlns=\"http://www.w3.org/2000/svg\" height=\"24px\"viewBox=\"0 0 24 24\"\n",
              "       width=\"24px\">\n",
              "    <path d=\"M0 0h24v24H0V0z\" fill=\"none\"/>\n",
              "    <path d=\"M18.56 5.44l.94 2.06.94-2.06 2.06-.94-2.06-.94-.94-2.06-.94 2.06-2.06.94zm-11 1L8.5 8.5l.94-2.06 2.06-.94-2.06-.94L8.5 2.5l-.94 2.06-2.06.94zm10 10l.94 2.06.94-2.06 2.06-.94-2.06-.94-.94-2.06-.94 2.06-2.06.94z\"/><path d=\"M17.41 7.96l-1.37-1.37c-.4-.4-.92-.59-1.43-.59-.52 0-1.04.2-1.43.59L10.3 9.45l-7.72 7.72c-.78.78-.78 2.05 0 2.83L4 21.41c.39.39.9.59 1.41.59.51 0 1.02-.2 1.41-.59l7.78-7.78 2.81-2.81c.8-.78.8-2.07 0-2.86zM5.41 20L4 18.59l7.72-7.72 1.47 1.35L5.41 20z\"/>\n",
              "  </svg>\n",
              "      </button>\n",
              "      \n",
              "  <style>\n",
              "    .colab-df-container {\n",
              "      display:flex;\n",
              "      flex-wrap:wrap;\n",
              "      gap: 12px;\n",
              "    }\n",
              "\n",
              "    .colab-df-convert {\n",
              "      background-color: #E8F0FE;\n",
              "      border: none;\n",
              "      border-radius: 50%;\n",
              "      cursor: pointer;\n",
              "      display: none;\n",
              "      fill: #1967D2;\n",
              "      height: 32px;\n",
              "      padding: 0 0 0 0;\n",
              "      width: 32px;\n",
              "    }\n",
              "\n",
              "    .colab-df-convert:hover {\n",
              "      background-color: #E2EBFA;\n",
              "      box-shadow: 0px 1px 2px rgba(60, 64, 67, 0.3), 0px 1px 3px 1px rgba(60, 64, 67, 0.15);\n",
              "      fill: #174EA6;\n",
              "    }\n",
              "\n",
              "    [theme=dark] .colab-df-convert {\n",
              "      background-color: #3B4455;\n",
              "      fill: #D2E3FC;\n",
              "    }\n",
              "\n",
              "    [theme=dark] .colab-df-convert:hover {\n",
              "      background-color: #434B5C;\n",
              "      box-shadow: 0px 1px 3px 1px rgba(0, 0, 0, 0.15);\n",
              "      filter: drop-shadow(0px 1px 2px rgba(0, 0, 0, 0.3));\n",
              "      fill: #FFFFFF;\n",
              "    }\n",
              "  </style>\n",
              "\n",
              "      <script>\n",
              "        const buttonEl =\n",
              "          document.querySelector('#df-da478950-517c-4ed3-9d6a-f6899f3969bd button.colab-df-convert');\n",
              "        buttonEl.style.display =\n",
              "          google.colab.kernel.accessAllowed ? 'block' : 'none';\n",
              "\n",
              "        async function convertToInteractive(key) {\n",
              "          const element = document.querySelector('#df-da478950-517c-4ed3-9d6a-f6899f3969bd');\n",
              "          const dataTable =\n",
              "            await google.colab.kernel.invokeFunction('convertToInteractive',\n",
              "                                                     [key], {});\n",
              "          if (!dataTable) return;\n",
              "\n",
              "          const docLinkHtml = 'Like what you see? Visit the ' +\n",
              "            '<a target=\"_blank\" href=https://colab.research.google.com/notebooks/data_table.ipynb>data table notebook</a>'\n",
              "            + ' to learn more about interactive tables.';\n",
              "          element.innerHTML = '';\n",
              "          dataTable['output_type'] = 'display_data';\n",
              "          await google.colab.output.renderOutput(dataTable, element);\n",
              "          const docLink = document.createElement('div');\n",
              "          docLink.innerHTML = docLinkHtml;\n",
              "          element.appendChild(docLink);\n",
              "        }\n",
              "      </script>\n",
              "    </div>\n",
              "  </div>\n",
              "  "
            ]
          },
          "metadata": {}
        },
        {
          "output_type": "display_data",
          "data": {
            "text/plain": [
              "                                               title  \\\n",
              "0   Donald Trump Sends Out Embarrassing New Year’...   \n",
              "1   Drunk Bragging Trump Staffer Started Russian ...   \n",
              "2   Sheriff David Clarke Becomes An Internet Joke...   \n",
              "3   Trump Is So Obsessed He Even Has Obama’s Name...   \n",
              "4   Pope Francis Just Called Out Donald Trump Dur...   \n",
              "\n",
              "                                                text subject  \\\n",
              "0  Donald Trump just couldn t wish all Americans ...    News   \n",
              "1  House Intelligence Committee Chairman Devin Nu...    News   \n",
              "2  On Friday, it was revealed that former Milwauk...    News   \n",
              "3  On Christmas day, Donald Trump announced that ...    News   \n",
              "4  Pope Francis used his annual Christmas Day mes...    News   \n",
              "\n",
              "                date  \n",
              "0  December 31, 2017  \n",
              "1  December 31, 2017  \n",
              "2  December 30, 2017  \n",
              "3  December 29, 2017  \n",
              "4  December 25, 2017  "
            ],
            "text/html": [
              "\n",
              "  <div id=\"df-6be55727-e92b-4dc1-ac99-9d3f5e55b138\">\n",
              "    <div class=\"colab-df-container\">\n",
              "      <div>\n",
              "<style scoped>\n",
              "    .dataframe tbody tr th:only-of-type {\n",
              "        vertical-align: middle;\n",
              "    }\n",
              "\n",
              "    .dataframe tbody tr th {\n",
              "        vertical-align: top;\n",
              "    }\n",
              "\n",
              "    .dataframe thead th {\n",
              "        text-align: right;\n",
              "    }\n",
              "</style>\n",
              "<table border=\"1\" class=\"dataframe\">\n",
              "  <thead>\n",
              "    <tr style=\"text-align: right;\">\n",
              "      <th></th>\n",
              "      <th>title</th>\n",
              "      <th>text</th>\n",
              "      <th>subject</th>\n",
              "      <th>date</th>\n",
              "    </tr>\n",
              "  </thead>\n",
              "  <tbody>\n",
              "    <tr>\n",
              "      <th>0</th>\n",
              "      <td>Donald Trump Sends Out Embarrassing New Year’...</td>\n",
              "      <td>Donald Trump just couldn t wish all Americans ...</td>\n",
              "      <td>News</td>\n",
              "      <td>December 31, 2017</td>\n",
              "    </tr>\n",
              "    <tr>\n",
              "      <th>1</th>\n",
              "      <td>Drunk Bragging Trump Staffer Started Russian ...</td>\n",
              "      <td>House Intelligence Committee Chairman Devin Nu...</td>\n",
              "      <td>News</td>\n",
              "      <td>December 31, 2017</td>\n",
              "    </tr>\n",
              "    <tr>\n",
              "      <th>2</th>\n",
              "      <td>Sheriff David Clarke Becomes An Internet Joke...</td>\n",
              "      <td>On Friday, it was revealed that former Milwauk...</td>\n",
              "      <td>News</td>\n",
              "      <td>December 30, 2017</td>\n",
              "    </tr>\n",
              "    <tr>\n",
              "      <th>3</th>\n",
              "      <td>Trump Is So Obsessed He Even Has Obama’s Name...</td>\n",
              "      <td>On Christmas day, Donald Trump announced that ...</td>\n",
              "      <td>News</td>\n",
              "      <td>December 29, 2017</td>\n",
              "    </tr>\n",
              "    <tr>\n",
              "      <th>4</th>\n",
              "      <td>Pope Francis Just Called Out Donald Trump Dur...</td>\n",
              "      <td>Pope Francis used his annual Christmas Day mes...</td>\n",
              "      <td>News</td>\n",
              "      <td>December 25, 2017</td>\n",
              "    </tr>\n",
              "  </tbody>\n",
              "</table>\n",
              "</div>\n",
              "      <button class=\"colab-df-convert\" onclick=\"convertToInteractive('df-6be55727-e92b-4dc1-ac99-9d3f5e55b138')\"\n",
              "              title=\"Convert this dataframe to an interactive table.\"\n",
              "              style=\"display:none;\">\n",
              "        \n",
              "  <svg xmlns=\"http://www.w3.org/2000/svg\" height=\"24px\"viewBox=\"0 0 24 24\"\n",
              "       width=\"24px\">\n",
              "    <path d=\"M0 0h24v24H0V0z\" fill=\"none\"/>\n",
              "    <path d=\"M18.56 5.44l.94 2.06.94-2.06 2.06-.94-2.06-.94-.94-2.06-.94 2.06-2.06.94zm-11 1L8.5 8.5l.94-2.06 2.06-.94-2.06-.94L8.5 2.5l-.94 2.06-2.06.94zm10 10l.94 2.06.94-2.06 2.06-.94-2.06-.94-.94-2.06-.94 2.06-2.06.94z\"/><path d=\"M17.41 7.96l-1.37-1.37c-.4-.4-.92-.59-1.43-.59-.52 0-1.04.2-1.43.59L10.3 9.45l-7.72 7.72c-.78.78-.78 2.05 0 2.83L4 21.41c.39.39.9.59 1.41.59.51 0 1.02-.2 1.41-.59l7.78-7.78 2.81-2.81c.8-.78.8-2.07 0-2.86zM5.41 20L4 18.59l7.72-7.72 1.47 1.35L5.41 20z\"/>\n",
              "  </svg>\n",
              "      </button>\n",
              "      \n",
              "  <style>\n",
              "    .colab-df-container {\n",
              "      display:flex;\n",
              "      flex-wrap:wrap;\n",
              "      gap: 12px;\n",
              "    }\n",
              "\n",
              "    .colab-df-convert {\n",
              "      background-color: #E8F0FE;\n",
              "      border: none;\n",
              "      border-radius: 50%;\n",
              "      cursor: pointer;\n",
              "      display: none;\n",
              "      fill: #1967D2;\n",
              "      height: 32px;\n",
              "      padding: 0 0 0 0;\n",
              "      width: 32px;\n",
              "    }\n",
              "\n",
              "    .colab-df-convert:hover {\n",
              "      background-color: #E2EBFA;\n",
              "      box-shadow: 0px 1px 2px rgba(60, 64, 67, 0.3), 0px 1px 3px 1px rgba(60, 64, 67, 0.15);\n",
              "      fill: #174EA6;\n",
              "    }\n",
              "\n",
              "    [theme=dark] .colab-df-convert {\n",
              "      background-color: #3B4455;\n",
              "      fill: #D2E3FC;\n",
              "    }\n",
              "\n",
              "    [theme=dark] .colab-df-convert:hover {\n",
              "      background-color: #434B5C;\n",
              "      box-shadow: 0px 1px 3px 1px rgba(0, 0, 0, 0.15);\n",
              "      filter: drop-shadow(0px 1px 2px rgba(0, 0, 0, 0.3));\n",
              "      fill: #FFFFFF;\n",
              "    }\n",
              "  </style>\n",
              "\n",
              "      <script>\n",
              "        const buttonEl =\n",
              "          document.querySelector('#df-6be55727-e92b-4dc1-ac99-9d3f5e55b138 button.colab-df-convert');\n",
              "        buttonEl.style.display =\n",
              "          google.colab.kernel.accessAllowed ? 'block' : 'none';\n",
              "\n",
              "        async function convertToInteractive(key) {\n",
              "          const element = document.querySelector('#df-6be55727-e92b-4dc1-ac99-9d3f5e55b138');\n",
              "          const dataTable =\n",
              "            await google.colab.kernel.invokeFunction('convertToInteractive',\n",
              "                                                     [key], {});\n",
              "          if (!dataTable) return;\n",
              "\n",
              "          const docLinkHtml = 'Like what you see? Visit the ' +\n",
              "            '<a target=\"_blank\" href=https://colab.research.google.com/notebooks/data_table.ipynb>data table notebook</a>'\n",
              "            + ' to learn more about interactive tables.';\n",
              "          element.innerHTML = '';\n",
              "          dataTable['output_type'] = 'display_data';\n",
              "          await google.colab.output.renderOutput(dataTable, element);\n",
              "          const docLink = document.createElement('div');\n",
              "          docLink.innerHTML = docLinkHtml;\n",
              "          element.appendChild(docLink);\n",
              "        }\n",
              "      </script>\n",
              "    </div>\n",
              "  </div>\n",
              "  "
            ]
          },
          "metadata": {}
        }
      ]
    },
    {
      "cell_type": "markdown",
      "source": [
        "Few columns are added for reference and both the datasets are concatenated"
      ],
      "metadata": {
        "id": "igEAiFfA-d4O"
      }
    },
    {
      "cell_type": "code",
      "source": [
        "real_data['value'] = 1\n",
        "fake_data['value'] = 0\n",
        "\n",
        "data = pd.concat([real_data, fake_data], axis=0)\n",
        "data = data.reset_index(drop=True)\n",
        "\n",
        "data = data.drop(['title', 'subject','date'], axis=1)"
      ],
      "metadata": {
        "id": "q9-UwFyU_Vif"
      },
      "execution_count": 48,
      "outputs": []
    },
    {
      "cell_type": "markdown",
      "source": [
        "**Data processing code-section begins**"
      ],
      "metadata": {
        "id": "kYVwpAs8Co3Y"
      }
    },
    {
      "cell_type": "markdown",
      "source": [
        "Tokenization of text data"
      ],
      "metadata": {
        "id": "o2GcKGPICzxF"
      }
    },
    {
      "cell_type": "code",
      "source": [
        "from nltk.tokenize import word_tokenize\n",
        "\n",
        "data['text'] = data['text'].apply(word_tokenize)\n",
        "display(data['text'])"
      ],
      "metadata": {
        "colab": {
          "base_uri": "https://localhost:8080/",
          "height": 225
        },
        "id": "8AiRJR0PCofd",
        "outputId": "65a60267-adb4-41d7-f9ee-364b50ff0488"
      },
      "execution_count": 49,
      "outputs": [
        {
          "output_type": "display_data",
          "data": {
            "text/plain": [
              "0        [WASHINGTON, (, Reuters, ), -, The, head, of, ...\n",
              "1        [WASHINGTON, (, Reuters, ), -, Transgender, pe...\n",
              "2        [WASHINGTON, (, Reuters, ), -, The, special, c...\n",
              "3        [WASHINGTON, (, Reuters, ), -, Trump, campaign...\n",
              "4        [SEATTLE/WASHINGTON, (, Reuters, ), -, Preside...\n",
              "                               ...                        \n",
              "44893    [21st, Century, Wire, says, As, 21WIRE, report...\n",
              "44894    [21st, Century, Wire, says, It, s, a, familiar...\n",
              "44895    [Patrick, Henningsen, 21st, Century, WireRemem...\n",
              "44896    [21st, Century, Wire, says, Al, Jazeera, Ameri...\n",
              "44897    [21st, Century, Wire, says, As, 21WIRE, predic...\n",
              "Name: text, Length: 44898, dtype: object"
            ]
          },
          "metadata": {}
        }
      ]
    },
    {
      "cell_type": "markdown",
      "source": [
        "Applying Stemming to the pulverized data"
      ],
      "metadata": {
        "id": "p1HViu07Dvwt"
      }
    },
    {
      "cell_type": "code",
      "source": [
        "from nltk.stem.snowball import SnowballStemmer\n",
        "\n",
        "porter = SnowballStemmer(\"english\", ignore_stopwords=False)\n",
        "\n",
        "def stemmer(text):\n",
        "  return [porter.stem(word) for word in text]\n",
        "\n",
        "data['text'] = data['text'].apply(stemmer)\n",
        "\n",
        "display(data['text'])"
      ],
      "metadata": {
        "colab": {
          "base_uri": "https://localhost:8080/",
          "height": 225
        },
        "id": "ys5RHc6mEDJU",
        "outputId": "0835c915-e587-42f8-c733-1ad7381938e6"
      },
      "execution_count": 50,
      "outputs": [
        {
          "output_type": "display_data",
          "data": {
            "text/plain": [
              "0        [washington, (, reuter, ), -, the, head, of, a...\n",
              "1        [washington, (, reuter, ), -, transgend, peopl...\n",
              "2        [washington, (, reuter, ), -, the, special, co...\n",
              "3        [washington, (, reuter, ), -, trump, campaign,...\n",
              "4        [seattle/washington, (, reuter, ), -, presid, ...\n",
              "                               ...                        \n",
              "44893    [21st, centuri, wire, say, as, 21wire, report,...\n",
              "44894    [21st, centuri, wire, say, it, s, a, familiar,...\n",
              "44895    [patrick, henningsen, 21st, centuri, wireremem...\n",
              "44896    [21st, centuri, wire, say, al, jazeera, americ...\n",
              "44897    [21st, centuri, wire, say, as, 21wire, predict...\n",
              "Name: text, Length: 44898, dtype: object"
            ]
          },
          "metadata": {}
        }
      ]
    },
    {
      "cell_type": "markdown",
      "source": [
        "Stopwords are deleted from the modified text"
      ],
      "metadata": {
        "id": "94pYr8lEGqRu"
      }
    },
    {
      "cell_type": "code",
      "source": [
        "# Here, actual stopwords are not deleted due to the case of news data; since news data may contain impactful stopwords, removing them may \n",
        "# result in inappropriate output results. So, a different criterion is thereby considered to remove certain words.\n",
        "\n",
        "def stopwords_remover(text):\n",
        "  return [word for word in text if len(word)>2]\n",
        "\n",
        "data['text'] = data['text'].apply(stopwords_remover)\n",
        "\n",
        "display(data['text'])"
      ],
      "metadata": {
        "colab": {
          "base_uri": "https://localhost:8080/",
          "height": 225
        },
        "id": "Nkp9OZEMGuqL",
        "outputId": "e6bc4182-9704-4247-80c2-5430abeb7d28"
      },
      "execution_count": 51,
      "outputs": [
        {
          "output_type": "display_data",
          "data": {
            "text/plain": [
              "0        [washington, reuter, the, head, conserv, repub...\n",
              "1        [washington, reuter, transgend, peopl, will, a...\n",
              "2        [washington, reuter, the, special, counsel, in...\n",
              "3        [washington, reuter, trump, campaign, advis, g...\n",
              "4        [seattle/washington, reuter, presid, donald, t...\n",
              "                               ...                        \n",
              "44893    [21st, centuri, wire, say, 21wire, report, ear...\n",
              "44894    [21st, centuri, wire, say, familiar, theme, wh...\n",
              "44895    [patrick, henningsen, 21st, centuri, wireremem...\n",
              "44896    [21st, centuri, wire, say, jazeera, america, w...\n",
              "44897    [21st, centuri, wire, say, 21wire, predict, ne...\n",
              "Name: text, Length: 44898, dtype: object"
            ]
          },
          "metadata": {}
        }
      ]
    },
    {
      "cell_type": "markdown",
      "source": [
        "Words of the text are joined and are splitted between training & test data"
      ],
      "metadata": {
        "id": "D2a93QKLIp2k"
      }
    },
    {
      "cell_type": "code",
      "source": [
        "data['text'] = data['text'].apply(' '.join)\n",
        "\n",
        "from sklearn.model_selection import train_test_split\n",
        "\n",
        "x_train, x_test, y_train, y_test = train_test_split(data['text'], data['value'], test_size=0.25)"
      ],
      "metadata": {
        "id": "oXcWT-PNIxVw"
      },
      "execution_count": 52,
      "outputs": []
    },
    {
      "cell_type": "markdown",
      "source": [
        "Vectorization of data"
      ],
      "metadata": {
        "id": "5r4p5RodKIgJ"
      }
    },
    {
      "cell_type": "code",
      "source": [
        "from sklearn.feature_extraction.text import TfidfVectorizer\n",
        "\n",
        "vectorizer = TfidfVectorizer(max_df=0.5)\n",
        "\n",
        "vector_train = vectorizer.fit_transform(x_train)\n",
        "vector_test = vectorizer.transform(x_test)\n",
        "\n",
        "print(vector_train)"
      ],
      "metadata": {
        "colab": {
          "base_uri": "https://localhost:8080/"
        },
        "id": "MMhY7kj8KLIv",
        "outputId": "e4f9cc58-02b1-4394-9807-b9bbc1d5cf05"
      },
      "execution_count": 53,
      "outputs": [
        {
          "output_type": "stream",
          "name": "stdout",
          "text": [
            "  (0, 75076)\t0.07867740834587342\n",
            "  (0, 48777)\t0.1359604456126613\n",
            "  (0, 80073)\t0.0740610406028035\n",
            "  (0, 68327)\t0.1400564966862215\n",
            "  (0, 14939)\t0.16327961690084994\n",
            "  (0, 57369)\t0.06932538381629769\n",
            "  (0, 3772)\t0.1938504853734042\n",
            "  (0, 73989)\t0.13280933711477677\n",
            "  (0, 21296)\t0.13934577859395747\n",
            "  (0, 9038)\t0.11611769344607537\n",
            "  (0, 70226)\t0.21707700922165027\n",
            "  (0, 24669)\t0.1903959814906681\n",
            "  (0, 66098)\t0.11771981560056426\n",
            "  (0, 56029)\t0.09533132608848814\n",
            "  (0, 82466)\t0.06941052575522184\n",
            "  (0, 24577)\t0.10157808690283564\n",
            "  (0, 16326)\t0.13097015622834776\n",
            "  (0, 76970)\t0.1081845497507408\n",
            "  (0, 61989)\t0.17691909272874423\n",
            "  (0, 61450)\t0.1213497463283406\n",
            "  (0, 77844)\t0.1138573227197121\n",
            "  (0, 85432)\t0.149137809352625\n",
            "  (0, 66560)\t0.27351618940357686\n",
            "  (0, 64464)\t0.13815509196340447\n",
            "  (0, 17730)\t0.08034787409235528\n",
            "  :\t:\n",
            "  (33672, 81519)\t0.03696681188929346\n",
            "  (33672, 67615)\t0.04096804092728339\n",
            "  (33672, 29181)\t0.025591971770606903\n",
            "  (33672, 81408)\t0.016580985621438404\n",
            "  (33672, 51894)\t0.022663164190378088\n",
            "  (33672, 60360)\t0.02311525760972505\n",
            "  (33672, 29365)\t0.07360734062556573\n",
            "  (33672, 32055)\t0.042798202485176524\n",
            "  (33672, 64748)\t0.022558807343482812\n",
            "  (33672, 72719)\t0.03418327660489546\n",
            "  (33672, 82948)\t0.16043646448556187\n",
            "  (33672, 9068)\t0.027216997066672875\n",
            "  (33672, 60761)\t0.01681413390951871\n",
            "  (33672, 55888)\t0.021783877139780968\n",
            "  (33672, 79262)\t0.020790790565683767\n",
            "  (33672, 56691)\t0.030292873567792488\n",
            "  (33672, 80073)\t0.0421087830890194\n",
            "  (33672, 57369)\t0.03941623728107585\n",
            "  (33672, 21296)\t0.0396138179900308\n",
            "  (33672, 56029)\t0.027101199896567257\n",
            "  (33672, 61450)\t0.01724891422148811\n",
            "  (33672, 77844)\t0.08091962498902816\n",
            "  (33672, 19130)\t0.02695437873694016\n",
            "  (33672, 13506)\t0.016129032309530715\n",
            "  (33672, 69841)\t0.01629119829655575\n"
          ]
        }
      ]
    },
    {
      "cell_type": "markdown",
      "source": [
        "Logistic Regression is applied and input test data is predicted"
      ],
      "metadata": {
        "id": "LTLnL8LjLdGh"
      }
    },
    {
      "cell_type": "code",
      "source": [
        "from sklearn.linear_model import LogisticRegression\n",
        "from sklearn.metrics import accuracy_score\n",
        "\n",
        "model_1 = LogisticRegression(max_iter=1000)\n",
        "model_1.fit(vector_train, y_train)\n",
        "\n",
        "predicted_data_1 = model_1.predict(vector_test)\n",
        "accuracy_1 = accuracy_score(y_test, predicted_data_1)*100\n",
        "\n",
        "print(accuracy_1)"
      ],
      "metadata": {
        "colab": {
          "base_uri": "https://localhost:8080/"
        },
        "id": "YLN0pDenLhIW",
        "outputId": "2567a736-d829-43b2-96d5-83512ddd8256"
      },
      "execution_count": 54,
      "outputs": [
        {
          "output_type": "stream",
          "name": "stdout",
          "text": [
            "98.9042316258352\n"
          ]
        }
      ]
    },
    {
      "cell_type": "markdown",
      "source": [
        "Using PassiveAggressiveClassifier"
      ],
      "metadata": {
        "id": "n5P4sKMmNj8Y"
      }
    },
    {
      "cell_type": "code",
      "source": [
        "from sklearn.linear_model import PassiveAggressiveClassifier\n",
        "\n",
        "model_2 = PassiveAggressiveClassifier(max_iter=1000)\n",
        "model_2.fit(vector_train, y_train)\n",
        "\n",
        "predicted_data_2 = model_2.predict(vector_test)\n",
        "accuracy_2 = accuracy_score(y_test, predicted_data_2)*100\n",
        "\n",
        "print(accuracy_2)"
      ],
      "metadata": {
        "colab": {
          "base_uri": "https://localhost:8080/"
        },
        "id": "wX2JEeRnNpKf",
        "outputId": "6490e027-8dd4-4d2a-ff6d-8ab5caf6c74e"
      },
      "execution_count": 55,
      "outputs": [
        {
          "output_type": "stream",
          "name": "stdout",
          "text": [
            "99.65256124721603\n"
          ]
        }
      ]
    }
  ]
}